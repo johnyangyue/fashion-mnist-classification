{
  "cells": [
    {
      "cell_type": "markdown",
      "metadata": {
        "id": "sgRpU3SXIVvz"
      },
      "source": [
        "**Table of Contents**\n",
        "\n",
        "- Model 1: Support Vector Machine, Logistic Regression, Random Forest\n",
        "\n",
        "- Model 2: Bagged Support Vector Machine, Bagged Logistic Regression, Random Forest\n",
        "\n",
        "- Model 3: XGBoost, LightGBM, CatBoost\n"
      ]
    },
    {
      "cell_type": "code",
      "execution_count": null,
      "metadata": {
        "id": "5BfUi4UoT8RO",
        "colab": {
          "base_uri": "https://localhost:8080/"
        },
        "outputId": "bfcda375-8daf-42d2-935c-95a2583735bd"
      },
      "outputs": [
        {
          "output_type": "stream",
          "name": "stdout",
          "text": [
            "Collecting catboost\n",
            "  Downloading catboost-1.0.5-cp37-none-manylinux1_x86_64.whl (76.6 MB)\n",
            "\u001b[K     |████████████████████████████████| 76.6 MB 52 kB/s \n",
            "\u001b[?25hRequirement already satisfied: numpy>=1.16.0 in /usr/local/lib/python3.7/dist-packages (from catboost) (1.21.6)\n",
            "Requirement already satisfied: graphviz in /usr/local/lib/python3.7/dist-packages (from catboost) (0.10.1)\n",
            "Requirement already satisfied: six in /usr/local/lib/python3.7/dist-packages (from catboost) (1.15.0)\n",
            "Requirement already satisfied: plotly in /usr/local/lib/python3.7/dist-packages (from catboost) (5.5.0)\n",
            "Requirement already satisfied: pandas>=0.24.0 in /usr/local/lib/python3.7/dist-packages (from catboost) (1.3.5)\n",
            "Requirement already satisfied: matplotlib in /usr/local/lib/python3.7/dist-packages (from catboost) (3.2.2)\n",
            "Requirement already satisfied: scipy in /usr/local/lib/python3.7/dist-packages (from catboost) (1.4.1)\n",
            "Requirement already satisfied: pytz>=2017.3 in /usr/local/lib/python3.7/dist-packages (from pandas>=0.24.0->catboost) (2022.1)\n",
            "Requirement already satisfied: python-dateutil>=2.7.3 in /usr/local/lib/python3.7/dist-packages (from pandas>=0.24.0->catboost) (2.8.2)\n",
            "Requirement already satisfied: pyparsing!=2.0.4,!=2.1.2,!=2.1.6,>=2.0.1 in /usr/local/lib/python3.7/dist-packages (from matplotlib->catboost) (3.0.8)\n",
            "Requirement already satisfied: cycler>=0.10 in /usr/local/lib/python3.7/dist-packages (from matplotlib->catboost) (0.11.0)\n",
            "Requirement already satisfied: kiwisolver>=1.0.1 in /usr/local/lib/python3.7/dist-packages (from matplotlib->catboost) (1.4.2)\n",
            "Requirement already satisfied: typing-extensions in /usr/local/lib/python3.7/dist-packages (from kiwisolver>=1.0.1->matplotlib->catboost) (4.1.1)\n",
            "Requirement already satisfied: tenacity>=6.2.0 in /usr/local/lib/python3.7/dist-packages (from plotly->catboost) (8.0.1)\n",
            "Installing collected packages: catboost\n",
            "Successfully installed catboost-1.0.5\n"
          ]
        }
      ],
      "source": [
        "!pip install catboost"
      ]
    },
    {
      "cell_type": "code",
      "execution_count": null,
      "metadata": {
        "id": "jpgvjZk3IcZ-"
      },
      "outputs": [],
      "source": [
        "import pickle\n",
        "import warnings\n",
        "\n",
        "import matplotlib.pyplot as plt\n",
        "import numpy as np\n",
        "import pandas as pd\n",
        "import seaborn as sns\n",
        "\n",
        "from catboost import CatBoostClassifier\n",
        "from lightgbm import LGBMClassifier\n",
        "from skimage import feature\n",
        "from sklearn.decomposition import PCA\n",
        "from sklearn.discriminant_analysis import LinearDiscriminantAnalysis\n",
        "from sklearn.ensemble import AdaBoostClassifier,BaggingClassifier,RandomForestClassifier,VotingClassifier\n",
        "from sklearn.linear_model import LogisticRegression\n",
        "from sklearn.metrics import accuracy_score,classification_report,confusion_matrix\n",
        "from sklearn.model_selection import GridSearchCV,RandomizedSearchCV\n",
        "from sklearn.neighbors import KNeighborsClassifier\n",
        "from sklearn.pipeline import Pipeline\n",
        "from sklearn.preprocessing import StandardScaler\n",
        "from sklearn.svm import SVC\n",
        "from sklearn.tree import DecisionTreeClassifier\n",
        "from xgboost import XGBClassifier"
      ]
    },
    {
      "cell_type": "markdown",
      "metadata": {
        "id": "ZpLyDauaJTzi"
      },
      "source": [
        "**Utility Functions**"
      ]
    },
    {
      "cell_type": "code",
      "execution_count": null,
      "metadata": {
        "id": "29AyClncJPYu"
      },
      "outputs": [],
      "source": [
        "class Utils:\n",
        "  def __init__(self):\n",
        "    self.mapping = {0:'t-shirt/top',1:'trouser',2:'pullover',3:'dress',4:'coat',5:'sandal',6:'shirt',7:'sneaker',8:'bag',9:'ankle boot'}\n",
        "\n",
        "  def reshape(self,data):\n",
        "    \"\"\"\n",
        "    Reshape the data for plotting.\n",
        "    \"\"\"\n",
        "    self.data = data\n",
        "    data_array = np.array([i.reshape(28,28) for i in np.array(self.data.iloc[:,1:])])\n",
        "    return data_array\n",
        "\n",
        "  def process_img(self,pixel_data,edge_detection_):\n",
        "    \"\"\"\n",
        "    Convert the img_path in the data file to pixel arrays and extract the labels, subjected to various \n",
        "    pre-processing steps\n",
        "\n",
        "      Parameters:\n",
        "        pixel_data (dataframe): pandas dataframe with pixel values\n",
        "        edge_detection_ (bool,float): tuple containing whether it is implemented and the sigma parameter value\n",
        "    \"\"\"\n",
        "\n",
        "    self.pixel_data = pixel_data\n",
        "    self.edge_detection_ = edge_detection_\n",
        "\n",
        "    imgs_flat = []\n",
        "\n",
        "    n =  self.pixel_data.shape[0]\n",
        "\n",
        "    for i in range(n):\n",
        "      img_array = np.array(self.pixel_data.iloc[i,:]).reshape(28,28)\n",
        "\n",
        "      if self.edge_detection_[0]==True:\n",
        "        sigma_val = self.edge_detection_[1]\n",
        "        img_array = feature.canny(img_array,sigma_val)\n",
        "\n",
        "      imgs_flat.append(img_array.flatten())\n",
        "    \n",
        "    output_data = pd.DataFrame(np.array(imgs_flat))\n",
        "    \n",
        "    return output_data"
      ]
    },
    {
      "cell_type": "markdown",
      "metadata": {
        "id": "_0X_6IPhJe8H"
      },
      "source": [
        "**Data Preprocessing**"
      ]
    },
    {
      "cell_type": "code",
      "execution_count": null,
      "metadata": {
        "id": "lluxAAP8JXVZ"
      },
      "outputs": [],
      "source": [
        "# Load the data\n",
        "train = pd.read_csv('fashion-mnist_train.csv')\n",
        "test = pd.read_csv('fashion-mnist_test.csv')\n",
        "\n",
        "# Training set\n",
        "X_train = train.iloc[:,1:]\n",
        "y_train = train.iloc[:,:1]\n",
        "\n",
        "# Testing set\n",
        "X_test = test.iloc[:,1:]\n",
        "y_test = test.iloc[:,:1]"
      ]
    },
    {
      "cell_type": "code",
      "execution_count": null,
      "metadata": {
        "id": "4aNf9SQ2JhxI"
      },
      "outputs": [],
      "source": [
        "# Scaling the data\n",
        "scaler = StandardScaler()\n",
        "X_train_scaled = scaler.fit_transform(X_train)\n",
        "X_test_scaled = scaler.transform(X_test)"
      ]
    },
    {
      "cell_type": "markdown",
      "metadata": {
        "id": "LjUAQEOoKz7q"
      },
      "source": [
        "**Sample Data**"
      ]
    },
    {
      "cell_type": "code",
      "execution_count": null,
      "metadata": {
        "id": "Nlp6Qrz7KxOA"
      },
      "outputs": [],
      "source": [
        "process = Utils()\n",
        "df_sample = pd.DataFrame()\n",
        "\n",
        "for l in train['label'].unique():\n",
        "  df_l = train[train.label==l].reset_index(drop=True)\n",
        "  idx = np.random.randint(0,df_l.shape[0])\n",
        "  df_i = df_l.iloc[idx:idx+1,:]\n",
        "  df_sample = pd.concat([df_sample,df_i],axis=0)\n",
        "\n",
        "df_sample = df_sample.reset_index(drop=True)\n",
        "df_sample['label'] = df_sample['label'].map(process.mapping)"
      ]
    },
    {
      "cell_type": "code",
      "execution_count": null,
      "metadata": {
        "colab": {
          "base_uri": "https://localhost:8080/",
          "height": 100
        },
        "id": "1jOJt4v_K3UY",
        "outputId": "d13b5a80-8d2b-435b-ea67-0e3067a0cfd6"
      },
      "outputs": [
        {
          "output_type": "display_data",
          "data": {
            "text/plain": [
              "<Figure size 720x720 with 10 Axes>"
            ],
            "image/png": "[encoded data removed]"
          },
          "metadata": {}
        }
      ],
      "source": [
        "sample_imgs = process.reshape(df_sample)\n",
        "\n",
        "f,a = plt.subplots(1,10,figsize=(10,10))\n",
        "for i in range(df_sample.shape[0]):\n",
        "  a[i].imshow(sample_imgs[i])\n",
        "  a[i].grid(False)\n",
        "  a[i].set_xticks([])\n",
        "  a[i].set_yticks([])\n",
        "  a[i].set_title(df_sample.loc[i,'label'])\n",
        "plt.tight_layout()\n",
        "plt.show()"
      ]
    },
    {
      "cell_type": "markdown",
      "metadata": {
        "id": "HALxhXadLG8q"
      },
      "source": [
        "**Ensemble Model 1**"
      ]
    },
    {
      "cell_type": "markdown",
      "metadata": {
        "id": "y6-1AnJGLLV8"
      },
      "source": [
        "The first stage of this model involves\n",
        "\n",
        "- Support vector machine classifier\n",
        "\n",
        "- Random forest classifier\n",
        "\n",
        "- Logistic regression\n",
        "\n",
        "In the second stage, we use a voting classifier to select the winner of the first stage model outputs based on soft voting (select the label with the highest total predicted probablity). \n",
        "\n",
        "The first stage models are diverse, independent, and uncorrelated. \n",
        "\n",
        "Note that the model is trained on normalized data."
      ]
    },
    {
      "cell_type": "code",
      "execution_count": null,
      "metadata": {
        "id": "k6c9NvTOK30o"
      },
      "outputs": [],
      "source": [
        "# Support vector machine\n",
        "model1_svc = SVC(probability=True,random_state=100,C=10,kernel='rbf')\n",
        "\n",
        "# Random forest classifier\n",
        "model1_rf = RandomForestClassifier(random_state=100,n_jobs=-1)\n",
        "\n",
        "# Logistic regression\n",
        "model1_lr = LogisticRegression(max_iter=1000,random_state=100,n_jobs=-1,multi_class='ovr')\n",
        "\n",
        "# Voting classifier\n",
        "model1_voting = VotingClassifier(estimators=[('svc',model1_svc),\n",
        "                                             ('rf',model1_rf),\n",
        "                                             ('lr',model1_lr)],voting='soft',n_jobs=-1)\n",
        "\n",
        "# Assemble everything together\n",
        "model1_pipeline = Pipeline([('voting',model1_voting)])"
      ]
    },
    {
      "cell_type": "code",
      "execution_count": null,
      "metadata": {
        "id": "vSD-ufF8MuJr"
      },
      "outputs": [],
      "source": [
        "# Implementation\n",
        "with warnings.catch_warnings():\n",
        "  warnings.filterwarnings('ignore')\n",
        "  model1_pipeline.fit(X_train_scaled,np.array(y_train).ravel())\n",
        "  model1_pred = model1_pipeline.predict(X_test_scaled)\n",
        "  pickle.dump(model1_pipeline,open('model1_pipeline.sav','wb'))"
      ]
    },
    {
      "cell_type": "code",
      "execution_count": null,
      "metadata": {
        "colab": {
          "base_uri": "https://localhost:8080/"
        },
        "id": "demL7vOlNwd-",
        "outputId": "56ca04f9-c515-4de1-b55e-171a1b45721b"
      },
      "outputs": [
        {
          "name": "stdout",
          "output_type": "stream",
          "text": [
            "              precision    recall  f1-score   support\n",
            "\n",
            " t-shirt/top     0.8232    0.8660    0.8441      1000\n",
            "     trouser     0.9869    0.9820    0.9845      1000\n",
            "    pullover     0.8549    0.8310    0.8428      1000\n",
            "       dress     0.9029    0.9300    0.9163      1000\n",
            "        coat     0.8373    0.8800    0.8581      1000\n",
            "      sandal     0.9733    0.9470    0.9600      1000\n",
            "       shirt     0.7778    0.6860    0.7290      1000\n",
            "     sneaker     0.9358    0.9480    0.9419      1000\n",
            "         bag     0.9578    0.9760    0.9668      1000\n",
            "  ankle boot     0.9497    0.9620    0.9558      1000\n",
            "\n",
            "    accuracy                         0.9008     10000\n",
            "   macro avg     0.9000    0.9008    0.8999     10000\n",
            "weighted avg     0.9000    0.9008    0.8999     10000\n",
            "\n"
          ]
        }
      ],
      "source": [
        "# Evaluation\n",
        "model1_report = classification_report(np.array(y_test).ravel(),model1_pred,digits=4,target_names=list(process.mapping.values()))\n",
        "print(model1_report)"
      ]
    },
    {
      "cell_type": "markdown",
      "metadata": {
        "id": "fFgckVAtqrOU"
      },
      "source": [
        "**Ensemble Model 2**"
      ]
    },
    {
      "cell_type": "markdown",
      "metadata": {
        "id": "tnINF1Vxq9tM"
      },
      "source": [
        "We maintain the structure of the previous model, but add a bagging classifier to the output of support vector machine and logistic regression."
      ]
    },
    {
      "cell_type": "code",
      "execution_count": null,
      "metadata": {
        "id": "exZbhl8COTXd"
      },
      "outputs": [],
      "source": [
        "# Support vector machine\n",
        "model2_svc = SVC(probability=True,random_state=100,C=10,kernel='rbf')\n",
        "\n",
        "# Random forest classifier\n",
        "model2_rf = RandomForestClassifier(random_state=100,n_jobs=-1)\n",
        "\n",
        "# Logistic regression\n",
        "model2_lr = LogisticRegression(max_iter=1000,random_state=100,n_jobs=-1,multi_class='ovr')\n",
        "\n",
        "# Voting classifier\n",
        "model2_voting = VotingClassifier(estimators=[('svc_bagged',BaggingClassifier(model2_svc,n_jobs=-1)),\n",
        "                                             ('rf',model2_rf),\n",
        "                                             ('lr_bagged',BaggingClassifier(model2_lr,n_jobs=-1))],voting='soft',n_jobs=-1)\n",
        "\n",
        "# Assemble everything together\n",
        "model2_pipeline = Pipeline([('voting',model2_voting)])"
      ]
    },
    {
      "cell_type": "code",
      "execution_count": null,
      "metadata": {
        "colab": {
          "background_save": true
        },
        "id": "kPx7LmVLaTcV"
      },
      "outputs": [],
      "source": [
        "# Implementation\n",
        "with warnings.catch_warnings():\n",
        "  warnings.filterwarnings('ignore')\n",
        "  model2_pipeline.fit(X_train_scaled,np.array(y_train).ravel())\n",
        "  model2_pred = model2_pipeline.predict(X_test_scaled)\n",
        "  pickle.dump(model2_pipeline,open('model2_pipeline.sav','wb'))"
      ]
    },
    {
      "cell_type": "code",
      "execution_count": null,
      "metadata": {
        "colab": {
          "background_save": true
        },
        "id": "s3rLNMTHaXNk",
        "outputId": "6781a5e4-1949-434d-9861-768f57a78613"
      },
      "outputs": [
        {
          "name": "stdout",
          "output_type": "stream",
          "text": [
            "              precision    recall  f1-score   support\n",
            "\n",
            " t-shirt/top     0.8188    0.8630    0.8403      1000\n",
            "     trouser     0.9889    0.9810    0.9849      1000\n",
            "    pullover     0.8490    0.8320    0.8404      1000\n",
            "       dress     0.9056    0.9300    0.9176      1000\n",
            "        coat     0.8416    0.8870    0.8637      1000\n",
            "      sandal     0.9753    0.9460    0.9604      1000\n",
            "       shirt     0.7782    0.6770    0.7241      1000\n",
            "     sneaker     0.9338    0.9450    0.9394      1000\n",
            "         bag     0.9532    0.9770    0.9649      1000\n",
            "  ankle boot     0.9459    0.9610    0.9534      1000\n",
            "\n",
            "    accuracy                         0.8999     10000\n",
            "   macro avg     0.8990    0.8999    0.8989     10000\n",
            "weighted avg     0.8990    0.8999    0.8989     10000\n",
            "\n"
          ]
        }
      ],
      "source": [
        "# Evaluation\n",
        "model2_report = classification_report(np.array(y_test).ravel(),model2_pred,digits=4,target_names=list(process.mapping.values()))\n",
        "print(model2_report)"
      ]
    },
    {
      "cell_type": "code",
      "execution_count": null,
      "metadata": {
        "id": "eqhUtJL6opzM"
      },
      "outputs": [],
      "source": [
        "from google.colab import files\n",
        "files.download('model2_pipeline.sav')"
      ]
    },
    {
      "cell_type": "markdown",
      "metadata": {
        "id": "dEa-4QkyFLh6"
      },
      "source": [
        "**Ensemble Model 3**"
      ]
    },
    {
      "cell_type": "markdown",
      "metadata": {
        "id": "RUlBqPLeGdjN"
      },
      "source": [
        "In the first stage of model 3, we consider the following boosting models:\n",
        "\n",
        "- XGBoost\n",
        "\n",
        "- LightGBM\n",
        "\n",
        "- CatBoost\n",
        "\n",
        "We first tune each individual model using grid search cross validation. Then assemble the tuned models together in the second stage using a voting classifier like before."
      ]
    },
    {
      "cell_type": "markdown",
      "metadata": {
        "id": "wWyvzW3OOQOH"
      },
      "source": [
        "*XGBoost*"
      ]
    },
    {
      "cell_type": "code",
      "execution_count": null,
      "metadata": {
        "id": "roiOx27JOSP3"
      },
      "outputs": [],
      "source": [
        "# XGBoost pipeline \n",
        "model3_xgb = Pipeline([('xgb',XGBClassifier(random_state=100,tree_method='gpu_hist',gpu_id=0,objective='multi:softmax',min_child_weight=1))])\n",
        "\n",
        "# Grid search cv\n",
        "params_xgb = [{'xgb__n_estimators':[500,1000],\n",
        "               'xgb__learning_rate':[0.1,0.5],\n",
        "               'xgb__max_depth':[5,10],\n",
        "               'xgb__reg_lambda':[10,20]}]\n",
        "\n",
        "model3_xgb_gs = GridSearchCV(model3_xgb,param_grid=params_xgb,scoring='accuracy',cv=3)"
      ]
    },
    {
      "cell_type": "code",
      "execution_count": null,
      "metadata": {
        "colab": {
          "base_uri": "https://localhost:8080/"
        },
        "id": "L7Kkb-ZdQlNk",
        "outputId": "62ec0e3c-728b-4db3-9317-a3e8bdf69f7b"
      },
      "outputs": [
        {
          "name": "stdout",
          "output_type": "stream",
          "text": [
            "Best parameters for XGBoost are {'xgb__learning_rate': 0.1, 'xgb__max_depth': 5, 'xgb__n_estimators': 1000, 'xgb__reg_lambda': 10}.\n",
            "Best score on the training set is 1.0.\n"
          ]
        }
      ],
      "source": [
        "# Implementation\n",
        "with warnings.catch_warnings():\n",
        "  model3_xgb_gs.fit(X_train_scaled,np.array(y_train).ravel())\n",
        "  print('Best parameters for XGBoost are {}.'.format(model3_xgb_gs.best_params_))\n",
        "  print('Best score on the training set is {}.'.format(model3_xgb_gs.score(X_train_scaled,np.array(y_train).ravel())))"
      ]
    },
    {
      "cell_type": "markdown",
      "metadata": {
        "id": "KhylY0IxSTgn"
      },
      "source": [
        "*LightGBM*"
      ]
    },
    {
      "cell_type": "markdown",
      "metadata": {
        "id": "PoW485eUU65N"
      },
      "source": [
        "Since grid search cross validation recommends `learning_rate` 0.1 and `n_estimators` 200 for both AdaBoost and XGBoost, we will use those value as given for LightGBM and focus on searching the ideal `max_depth`."
      ]
    },
    {
      "cell_type": "code",
      "execution_count": null,
      "metadata": {
        "id": "cB6_mvXlWPL-"
      },
      "outputs": [],
      "source": [
        "#LightGBM pipeline\n",
        "model3_lgbm = Pipeline([('lgbm',LGBMClassifier(random_state=100,objective='multiclass'))])\n",
        "\n",
        "# Grid search cv\n",
        "params_lgbm = [{'lgbm__n_estimators':[500,1000],\n",
        "                'lgbm__learning_rate':[0.1,0.5],\n",
        "                'lgbm__max_depth':[5,10]}]\n",
        "\n",
        "model3_lgbm_gs = GridSearchCV(model3_lgbm,param_grid=params_lgbm,scoring='accuracy',cv=3)"
      ]
    },
    {
      "cell_type": "code",
      "execution_count": null,
      "metadata": {
        "colab": {
          "background_save": true
        },
        "id": "kPs7ytmkV5bQ",
        "outputId": "7bcc2154-850a-4fe2-f03b-31b1a11fe333"
      },
      "outputs": [
        {
          "name": "stdout",
          "output_type": "stream",
          "text": [
            "Best parameters for LightGBM are {'lgbm__learning_rate': 0.1, 'lgbm__max_depth': 10, 'lgbm__n_estimators': 1000}.\n",
            "Best score on the training set is 1.0.\n"
          ]
        }
      ],
      "source": [
        "# Implementation\n",
        "with warnings.catch_warnings():\n",
        "  model3_lgbm_gs.fit(X_train_scaled,np.array(y_train).ravel())\n",
        "  print('Best parameters for LightGBM are {}.'.format(model3_lgbm_gs.best_params_))\n",
        "  print('Best score on the training set is {}.'.format(model3_lgbm_gs.score(X_train_scaled,np.array(y_train).ravel())))"
      ]
    },
    {
      "cell_type": "markdown",
      "metadata": {
        "id": "U5NM1LRsW1SI"
      },
      "source": [
        "*CatBoost*"
      ]
    },
    {
      "cell_type": "code",
      "execution_count": null,
      "metadata": {
        "id": "YB7djyLsWBym"
      },
      "outputs": [],
      "source": [
        "#CatBoost pipeline\n",
        "model3_cb = Pipeline([('cb',CatBoostClassifier(random_state=100,loss_function='MultiClass',iterations=1000,task_type='GPU',devices='0',verbose=False))])\n",
        "\n",
        "# Grid search cv\n",
        "params_cb = [{'cb__learning_rate':[0.1,0.5],\n",
        "              'cb__depth':[4,6],\n",
        "              'cb__l2_leaf_reg':[5,10]}]\n",
        "\n",
        "model3_cb_gs = GridSearchCV(model3_cb,param_grid=params_cb,scoring='accuracy',cv=3)"
      ]
    },
    {
      "cell_type": "code",
      "execution_count": null,
      "metadata": {
        "colab": {
          "base_uri": "https://localhost:8080/"
        },
        "id": "OKT9pYsHWGa4",
        "outputId": "c5332a0f-278a-4832-b288-78a6e5709bd2"
      },
      "outputs": [
        {
          "name": "stdout",
          "output_type": "stream",
          "text": [
            "Best parameters for CatBoost are {'cb__depth': 6, 'cb__l2_leaf_reg': 5, 'cb__learning_rate': 0.5}.\n",
            "Best score on the training set is 0.9968666666666667.\n"
          ]
        }
      ],
      "source": [
        "# Implementation\n",
        "with warnings.catch_warnings():\n",
        "  model3_cb_gs.fit(X_train_scaled,np.array(y_train).ravel())\n",
        "  print('Best parameters for CatBoost are {}.'.format(model3_cb_gs.best_params_))\n",
        "  print('Best score on the training set is {}.'.format(model3_cb_gs.score(X_train_scaled,np.array(y_train).ravel())))"
      ]
    },
    {
      "cell_type": "markdown",
      "metadata": {
        "id": "wR8aiU-Si5Gh"
      },
      "source": [
        "*Assemble the Models*"
      ]
    },
    {
      "cell_type": "code",
      "execution_count": null,
      "metadata": {
        "id": "H_x_9X-8jCzs"
      },
      "outputs": [],
      "source": [
        "# XGBoost\n",
        "model3_xgb_final = XGBClassifier(random_state=100,tree_method='gpu_hist',gpu_id=0,objective='multi:softmax',\n",
        "                                 learning_rate=0.1,max_depth=5,n_estimators=1000,gamma=2,reg_lambda=10,min_child_weight=1)\n",
        "\n",
        "# LightGBM\n",
        "model3_lgbm_final = LGBMClassifier(random_state=100,objective='multiclass',learning_rate=0.1,\n",
        "                                   max_depth=10,n_estimators=1000)\n",
        "\n",
        "# CatBoost\n",
        "model3_cb_final = CatBoostClassifier(random_state=100,loss_function='MultiClass',iterations=1000,\n",
        "                                     task_type='GPU',devices='0',verbose=False,depth=6,learning_rate=0.5,\n",
        "                                     l2_leaf_reg=5)\n",
        "\n",
        "# Voting classifier\n",
        "model3_voting = VotingClassifier(estimators=[('xgb',model3_xgb_final),\n",
        "                                             ('lgbm',model3_lgbm_final),\n",
        "                                             ('cb',model3_cb_final)],voting='soft',n_jobs=-1)\n",
        "\n",
        "# Assemble everything together\n",
        "model3_pipeline = Pipeline([('voting',model3_voting)])"
      ]
    },
    {
      "cell_type": "code",
      "execution_count": null,
      "metadata": {
        "id": "e_0hFNXfkRJr"
      },
      "outputs": [],
      "source": [
        "# Implementation\n",
        "with warnings.catch_warnings():\n",
        "  warnings.filterwarnings('ignore')\n",
        "  model3_pipeline.fit(X_train_scaled,np.array(y_train).ravel())\n",
        "  model3_pred = model3_pipeline.predict(X_test_scaled)\n",
        "  pickle.dump(model3_pipeline,open('model3_pipeline.sav','wb'))"
      ]
    },
    {
      "cell_type": "code",
      "execution_count": null,
      "metadata": {
        "colab": {
          "base_uri": "https://localhost:8080/"
        },
        "id": "F384vNmikmHD",
        "outputId": "20bace0b-2025-450d-c80d-9b7db48254ce"
      },
      "outputs": [
        {
          "output_type": "stream",
          "name": "stdout",
          "text": [
            "              precision    recall  f1-score   support\n",
            "\n",
            " t-shirt/top     0.8539    0.8940    0.8735      1000\n",
            "     trouser     0.9899    0.9850    0.9875      1000\n",
            "    pullover     0.8640    0.8580    0.8610      1000\n",
            "       dress     0.9203    0.9350    0.9276      1000\n",
            "        coat     0.8672    0.8880    0.8775      1000\n",
            "      sandal     0.9917    0.9610    0.9761      1000\n",
            "       shirt     0.7961    0.7380    0.7660      1000\n",
            "     sneaker     0.9463    0.9690    0.9575      1000\n",
            "         bag     0.9780    0.9780    0.9780      1000\n",
            "  ankle boot     0.9632    0.9680    0.9656      1000\n",
            "\n",
            "    accuracy                         0.9174     10000\n",
            "   macro avg     0.9171    0.9174    0.9170     10000\n",
            "weighted avg     0.9171    0.9174    0.9170     10000\n",
            "\n"
          ]
        }
      ],
      "source": [
        "# Evaluation - report\n",
        "model3_report = classification_report(np.array(y_test).ravel(),model3_pred,digits=4,target_names=list(process.mapping.values()))\n",
        "print(model3_report)"
      ]
    },
    {
      "cell_type": "code",
      "execution_count": null,
      "metadata": {
        "id": "f46cgXXvdgvw",
        "colab": {
          "base_uri": "https://localhost:8080/",
          "height": 338
        },
        "outputId": "cd9d9a21-9355-4ee5-9274-3a786d69709b"
      },
      "outputs": [
        {
          "output_type": "display_data",
          "data": {
            "text/plain": [
              "<Figure size 432x288 with 2 Axes>"
            ],
            "image/png": "[encoded data removed]"
          },
          "metadata": {
            "needs_background": "light"
          }
        }
      ],
      "source": [
        "# Evaluation - confusion matrix\n",
        "labels = list(process.mapping.values())\n",
        "confusion = confusion_matrix(np.array(y_test).ravel(),model3_pred)\n",
        "sns.heatmap(confusion,annot=True,fmt='g',xticklabels=labels,yticklabels=labels)\n",
        "plt.xlabel('Predicted')\n",
        "plt.ylabel('True')\n",
        "plt.title('Confusion Matrix')\n",
        "plt.show()"
      ]
    }
  ],
  "metadata": {
    "accelerator": "GPU",
    "colab": {
      "background_execution": "on",
      "name": "stat542_project_ensemble.ipynb",
      "provenance": [],
      "collapsed_sections": []
    },
    "kernelspec": {
      "display_name": "Python 3",
      "name": "python3"
    },
    "language_info": {
      "name": "python"
    }
  },
  "nbformat": 4,
  "nbformat_minor": 0
}